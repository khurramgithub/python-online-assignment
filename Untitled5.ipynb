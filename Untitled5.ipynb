{
 "cells": [
  {
   "cell_type": "markdown",
   "id": "19a25be5",
   "metadata": {},
   "source": [
    "# 1:Write a python program to print the following string in the specific format"
   ]
  },
  {
   "cell_type": "code",
   "execution_count": 2,
   "id": "9a5ca347",
   "metadata": {},
   "outputs": [
    {
     "name": "stdout",
     "output_type": "stream",
     "text": [
      "Twinkle, twinkle, little star,\n",
      "         How I wonder what you are!\n",
      "                 Up above the world so high,\n",
      "                 Like a diamond in the sky.\n",
      "Twinkle, twinkle, little star,\n",
      "         How I wonder what you are\n"
     ]
    }
   ],
   "source": [
    "print(\"Twinkle, twinkle, little star,\")\n",
    "print(\"         How I wonder what you are!\")\n",
    "print(\"                 Up above the world so high,\")\n",
    "print(\"                 Like a diamond in the sky.\")\n",
    "print(\"Twinkle, twinkle, little star,\")\n",
    "print(\"         How I wonder what you are\")"
   ]
  },
  {
   "cell_type": "markdown",
   "id": "424c5392",
   "metadata": {},
   "source": [
    "# 2:write a python program to get the python version you are using"
   ]
  },
  {
   "cell_type": "code",
   "execution_count": 3,
   "id": "4ef38609",
   "metadata": {},
   "outputs": [
    {
     "name": "stdout",
     "output_type": "stream",
     "text": [
      "system version\n",
      "sys.version\n",
      "version info\n",
      "sys.version_info\n"
     ]
    }
   ],
   "source": [
    "import sys\n",
    "print(\"system version\")\n",
    "print(\"sys.version\")\n",
    "print(\"version info\")\n",
    "print(\"sys.version_info\")"
   ]
  },
  {
   "cell_type": "markdown",
   "id": "8031d848",
   "metadata": {},
   "source": [
    "# 3:write a python program to dispay the current date and time"
   ]
  },
  {
   "cell_type": "code",
   "execution_count": 4,
   "id": "bca8eec6",
   "metadata": {},
   "outputs": [
    {
     "name": "stdout",
     "output_type": "stream",
     "text": [
      "Current date and time is:\n",
      "22-01-03 21:48:16\n"
     ]
    }
   ],
   "source": [
    "import datetime\n",
    "now = datetime.datetime.now()\n",
    "print(\"Current date and time is:\")\n",
    "print(now.strftime(\"%y-%m-%d %H:%M:%S\"))"
   ]
  },
  {
   "cell_type": "markdown",
   "id": "9124dee7",
   "metadata": {},
   "source": [
    "# 4:Write a Python program which accepts the radius of a circle from the user and compute the area."
   ]
  },
  {
   "cell_type": "code",
   "execution_count": 5,
   "id": "1607ae58",
   "metadata": {},
   "outputs": [
    {
     "name": "stdout",
     "output_type": "stream",
     "text": [
      "Enter the radius of the circle:7.6\n",
      "Area of the Circle is : 181.45839167134645\n"
     ]
    }
   ],
   "source": [
    "import math\n",
    "radius=float (input (\"Enter the radius of the circle:\"))\n",
    "area = math.pi * radius * radius\n",
    "print(\"Area of the Circle is : {0}\".format (area))"
   ]
  },
  {
   "cell_type": "markdown",
   "id": "13b16c73",
   "metadata": {},
   "source": [
    "# 5:Write a Python program which accepts the user's first and last name and print them in reverse order with a space between them."
   ]
  },
  {
   "cell_type": "code",
   "execution_count": 1,
   "id": "5920ac67",
   "metadata": {},
   "outputs": [
    {
     "name": "stdout",
     "output_type": "stream",
     "text": [
      "Enter your first name:khurram\n",
      "Enter your last name:Ali\n",
      "Ali khurram\n"
     ]
    }
   ],
   "source": [
    "fname=input (\"Enter your first name:\")\n",
    "lname=input(\"Enter your last name:\")\n",
    "print (lname,fname)"
   ]
  },
  {
   "cell_type": "markdown",
   "id": "be2f411f",
   "metadata": {},
   "source": [
    "# 6:Write a python program which takes input from user and print them addition"
   ]
  },
  {
   "cell_type": "code",
   "execution_count": 2,
   "id": "5c8f5fb1",
   "metadata": {},
   "outputs": [
    {
     "name": "stdout",
     "output_type": "stream",
     "text": [
      "enter the first value:9\n",
      "enter the last value:88\n",
      "97\n"
     ]
    }
   ],
   "source": [
    "a=int(input(\"enter the first value:\"))\n",
    "b=int(input(\"enter the last value:\"))\n",
    "print(a+b)"
   ]
  }
 ],
 "metadata": {
  "kernelspec": {
   "display_name": "Python 3 (ipykernel)",
   "language": "python",
   "name": "python3"
  },
  "language_info": {
   "codemirror_mode": {
    "name": "ipython",
    "version": 3
   },
   "file_extension": ".py",
   "mimetype": "text/x-python",
   "name": "python",
   "nbconvert_exporter": "python",
   "pygments_lexer": "ipython3",
   "version": "3.9.7"
  }
 },
 "nbformat": 4,
 "nbformat_minor": 5
}
